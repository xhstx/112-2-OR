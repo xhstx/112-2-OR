{
 "cells": [
  {
   "cell_type": "code",
   "execution_count": 1,
   "metadata": {},
   "outputs": [],
   "source": [
    "import pandas as pd\n",
    "\n",
    "# Read excel sheets and turn them into lists\n",
    "instance_dis = pd.read_excel('OR_FP_data.xlsx', '距離')\n",
    "instance_info = pd.read_excel('OR_FP_data.xlsx', '學校資訊')\n",
    "instance_school_num = pd.read_excel('OR_FP_data.xlsx', '各里學校數量')\n",
    "instance_student_num = pd.read_excel('OR_FP_data.xlsx', '各里學生人數')\n",
    "\n",
    "# distance between 2 villages\n",
    "distances = instance_dis.iloc[1:31, 2:32]\n",
    "d = distances.values\n",
    "\n",
    "# total number of teacher\n",
    "K = instance_info.iloc[2,5]\n",
    "\n",
    "# original school numbers of each village\n",
    "a = 0\n",
    "S = instance_school_num.iloc[0:30,range(4,9)].values\n",
    "# for i in range(30):\n",
    "#     for j in range(5):\n",
    "#         a += S[i][j]\n",
    "#         print(S[i][j],\" \")\n",
    "#     print()\n",
    "# print(a)\n",
    "# student number of each village\n",
    "a = 0\n",
    "P = instance_student_num.iloc[0:30,2].values\n",
    "\n",
    "\n",
    "# number of villages\n",
    "L = range(30)\n",
    "\n",
    "#一地最多5間學校\n",
    "Q = range(2)\n",
    "\n",
    "W_t = 50"
   ]
  },
  {
   "cell_type": "code",
   "execution_count": 2,
   "metadata": {},
   "outputs": [
    {
     "name": "stdout",
     "output_type": "stream",
     "text": [
      "Set parameter Username\n",
      "Academic license - for non-commercial use only - expires 2025-03-15\n"
     ]
    },
    {
     "data": {
      "text/plain": [
       "{(0, 0): <gurobi.Constr *Awaiting Model Update*>,\n",
       " (0, 1): <gurobi.Constr *Awaiting Model Update*>,\n",
       " (0, 2): <gurobi.Constr *Awaiting Model Update*>,\n",
       " (0, 3): <gurobi.Constr *Awaiting Model Update*>,\n",
       " (0, 4): <gurobi.Constr *Awaiting Model Update*>,\n",
       " (0, 5): <gurobi.Constr *Awaiting Model Update*>,\n",
       " (0, 6): <gurobi.Constr *Awaiting Model Update*>,\n",
       " (0, 7): <gurobi.Constr *Awaiting Model Update*>,\n",
       " (0, 8): <gurobi.Constr *Awaiting Model Update*>,\n",
       " (0, 9): <gurobi.Constr *Awaiting Model Update*>,\n",
       " (0, 10): <gurobi.Constr *Awaiting Model Update*>,\n",
       " (0, 11): <gurobi.Constr *Awaiting Model Update*>,\n",
       " (0, 12): <gurobi.Constr *Awaiting Model Update*>,\n",
       " (0, 13): <gurobi.Constr *Awaiting Model Update*>,\n",
       " (0, 14): <gurobi.Constr *Awaiting Model Update*>,\n",
       " (0, 15): <gurobi.Constr *Awaiting Model Update*>,\n",
       " (0, 16): <gurobi.Constr *Awaiting Model Update*>,\n",
       " (0, 17): <gurobi.Constr *Awaiting Model Update*>,\n",
       " (0, 18): <gurobi.Constr *Awaiting Model Update*>,\n",
       " (0, 19): <gurobi.Constr *Awaiting Model Update*>,\n",
       " (0, 20): <gurobi.Constr *Awaiting Model Update*>,\n",
       " (0, 21): <gurobi.Constr *Awaiting Model Update*>,\n",
       " (0, 22): <gurobi.Constr *Awaiting Model Update*>,\n",
       " (0, 23): <gurobi.Constr *Awaiting Model Update*>,\n",
       " (0, 24): <gurobi.Constr *Awaiting Model Update*>,\n",
       " (0, 25): <gurobi.Constr *Awaiting Model Update*>,\n",
       " (0, 26): <gurobi.Constr *Awaiting Model Update*>,\n",
       " (0, 27): <gurobi.Constr *Awaiting Model Update*>,\n",
       " (0, 28): <gurobi.Constr *Awaiting Model Update*>,\n",
       " (0, 29): <gurobi.Constr *Awaiting Model Update*>,\n",
       " (1, 0): <gurobi.Constr *Awaiting Model Update*>,\n",
       " (1, 1): <gurobi.Constr *Awaiting Model Update*>,\n",
       " (1, 2): <gurobi.Constr *Awaiting Model Update*>,\n",
       " (1, 3): <gurobi.Constr *Awaiting Model Update*>,\n",
       " (1, 4): <gurobi.Constr *Awaiting Model Update*>,\n",
       " (1, 5): <gurobi.Constr *Awaiting Model Update*>,\n",
       " (1, 6): <gurobi.Constr *Awaiting Model Update*>,\n",
       " (1, 7): <gurobi.Constr *Awaiting Model Update*>,\n",
       " (1, 8): <gurobi.Constr *Awaiting Model Update*>,\n",
       " (1, 9): <gurobi.Constr *Awaiting Model Update*>,\n",
       " (1, 10): <gurobi.Constr *Awaiting Model Update*>,\n",
       " (1, 11): <gurobi.Constr *Awaiting Model Update*>,\n",
       " (1, 12): <gurobi.Constr *Awaiting Model Update*>,\n",
       " (1, 13): <gurobi.Constr *Awaiting Model Update*>,\n",
       " (1, 14): <gurobi.Constr *Awaiting Model Update*>,\n",
       " (1, 15): <gurobi.Constr *Awaiting Model Update*>,\n",
       " (1, 16): <gurobi.Constr *Awaiting Model Update*>,\n",
       " (1, 17): <gurobi.Constr *Awaiting Model Update*>,\n",
       " (1, 18): <gurobi.Constr *Awaiting Model Update*>,\n",
       " (1, 19): <gurobi.Constr *Awaiting Model Update*>,\n",
       " (1, 20): <gurobi.Constr *Awaiting Model Update*>,\n",
       " (1, 21): <gurobi.Constr *Awaiting Model Update*>,\n",
       " (1, 22): <gurobi.Constr *Awaiting Model Update*>,\n",
       " (1, 23): <gurobi.Constr *Awaiting Model Update*>,\n",
       " (1, 24): <gurobi.Constr *Awaiting Model Update*>,\n",
       " (1, 25): <gurobi.Constr *Awaiting Model Update*>,\n",
       " (1, 26): <gurobi.Constr *Awaiting Model Update*>,\n",
       " (1, 27): <gurobi.Constr *Awaiting Model Update*>,\n",
       " (1, 28): <gurobi.Constr *Awaiting Model Update*>,\n",
       " (1, 29): <gurobi.Constr *Awaiting Model Update*>}"
      ]
     },
     "execution_count": 2,
     "metadata": {},
     "output_type": "execute_result"
    }
   ],
   "source": [
    "from gurobipy import *\n",
    "\n",
    "eg1 = Model(\"eg1\")\n",
    "\n",
    "y = []\n",
    "for i in L:\n",
    "    y.append([])\n",
    "    for j in Q:\n",
    "        y[i].append(eg1.addVar(lb = 0, vtype = GRB.INTEGER, name=\"y\" + str(i+1) + str(j+1)))\n",
    "\n",
    "F = []\n",
    "for i in L:\n",
    "    F.append([])\n",
    "    for j in Q:\n",
    "        F[i].append(eg1.addVar(lb = 0, vtype = GRB.BINARY, name=\"F\" + str(i+1) + str(j+1)))\n",
    "\n",
    "B = []\n",
    "for i in L:\n",
    "    B.append([])\n",
    "    for j in Q:\n",
    "        B[i].append(eg1.addVar(lb = 0, vtype = GRB.BINARY, name=\"B\" + str(i+1) + str(j+1)))\n",
    "\n",
    "z = []\n",
    "for i in L:\n",
    "    z.append([])\n",
    "    for j in L:\n",
    "        z[i].append(eg1.addVar(lb = 0, vtype = GRB.CONTINUOUS, name=\"z\" + str(i+1) + str(j+1)))\n",
    "\n",
    "C = []\n",
    "for i in L:\n",
    "    C.append([])\n",
    "    for j in Q:\n",
    "        C[i].append(eg1.addVar(lb = 0, vtype = GRB.CONTINUOUS, name=\"C\" + str(i+1) + str(j+1)))\n",
    "\n",
    "T = []\n",
    "for i in L:\n",
    "    T.append([])\n",
    "    for j in Q:\n",
    "        T[i].append(eg1.addVar(lb = 0, vtype = GRB.CONTINUOUS, name=\"T\" + str(i+1) + str(j+1)))\n",
    "# eg1.setObjective(quicksum(quicksum(z[i][j]*P[i] for j in L)  for i in L), GRB.MINIMIZE)\n",
    "eg1.setObjective(quicksum(quicksum(W_t*d[i][j]*z[i][j]*P[i] for j in L) + quicksum(C[i][j]*B[i][j] for j in Q) for i in L), GRB.MINIMIZE)\n",
    "eg1.addConstrs((quicksum(y[i][j] for i in L for j in Q) == 17410 for p in range(1)), \"l\") \n",
    "eg1.addConstrs((C[i][j] == (0.0075 * y[i][j] + 2.8257*F[i][j]) * 10**8 for i in L for j in Q), \"Cost of a school\")\n",
    "eg1.addConstrs((T[i][j] == (0.0762 * y[i][j] + 15.351*F[i][j])  for j in Q for i in L), \"Teacher of a school\") \n",
    "eg1.addConstrs((quicksum(z[i][j] for j in L) == 1 for i in L), \"i區有多少部分去j區\") \n",
    "# eg1.addConstrs((quicksum(z[k][i] * P[k] for k in L) >= quicksum(y[i][j] for j in Q)-10 for i in L ) ,\"i區供等於求\")\n",
    "eg1.addConstrs((quicksum(z[k][i] * P[k] for k in L) == quicksum(y[i][j] for j in Q) for i in L) ,\"i區供等於求\")\n",
    "eg1.addConstrs((quicksum(T[i][j] for i in L for j in Q) <= K for b in range(1)), \"可用師資\")\n",
    "eg1.addConstrs((quicksum(P[i] for i in L) <= quicksum(y[i][j] for i in L for j in Q) for c in range(1)), \"滿足需求\")\n",
    "eg1.addConstrs((C[i][j] <= y[i][j] * 10**11 for j in Q for i in L), \"不蓋沒成本\")\n",
    "eg1.addConstrs((T[i][j] <= y[i][j] * 10**4 for j in Q for i in L), \"不蓋沒教師\")\n",
    "eg1.addConstrs((y[i][j] >= S[i][j] for j in Q for i in L), \"不拆掉原學校（大）\")\n",
    "eg1.addConstrs((y[i][j] <= F[i][j] * 10**5 for j in Q for i in L), \"有學校\")\n",
    "eg1.addConstrs((y[i][j]-S[i][j] <= B[i][j] * 1800  for j in Q for i in L), \"有蓋學校\")\n",
    "eg1.addConstrs((y[i][j] >= B[i][j] * 300  for j in Q for i in L), \"有蓋學校\")"
   ]
  },
  {
   "cell_type": "code",
   "execution_count": 3,
   "metadata": {},
   "outputs": [
    {
     "name": "stdout",
     "output_type": "stream",
     "text": [
      "Gurobi Optimizer version 11.0.1 build v11.0.1rc0 (mac64[arm] - Darwin 22.3.0 22D68)\n",
      "\n",
      "CPU model: Apple M2 Pro\n",
      "Thread count: 10 physical cores, 10 logical processors, using up to 10 threads\n",
      "\n",
      "Optimize a model with 543 rows, 1200 columns and 3060 nonzeros\n",
      "Model fingerprint: 0x5a71eb89\n",
      "Model has 60 quadratic objective terms\n",
      "Variable types: 1020 continuous, 180 integer (120 binary)\n",
      "Coefficient statistics:\n",
      "  Matrix range     [8e-02, 1e+11]\n",
      "  Objective range  [1e+05, 2e+07]\n",
      "  QObjective range [2e+00, 2e+00]\n",
      "  Bounds range     [1e+00, 1e+00]\n",
      "  RHS range        [1e+00, 2e+04]\n",
      "Warning: Model contains large matrix coefficient range\n",
      "         Consider reformulating model or setting NumericFocus parameter\n",
      "         to avoid numerical issues.\n",
      "Presolve removed 270 rows and 120 columns\n",
      "Presolve time: 0.00s\n",
      "Presolved: 393 rows, 1260 columns, 2688 nonzeros\n",
      "Presolved model has 120 SOS constraint(s)\n",
      "Variable types: 1020 continuous, 240 integer (120 binary)\n",
      "Found heuristic solution: objective 2.449528e+09\n",
      "\n",
      "Root relaxation: objective 6.365795e+06, 165 iterations, 0.00 seconds (0.00 work units)\n",
      "\n",
      "    Nodes    |    Current Node    |     Objective Bounds      |     Work\n",
      " Expl Unexpl |  Obj  Depth IntInf | Incumbent    BestBd   Gap | It/Node Time\n",
      "\n",
      "     0     0 6365794.69    0   33 2.4495e+09 6365794.69   100%     -    0s\n",
      "     0     0 6365794.69    0   42 2.4495e+09 6365794.69   100%     -    0s\n",
      "     0     0 8714278.05    0   24 2.4495e+09 8714278.05   100%     -    0s\n",
      "     0     0 8714278.05    0   24 2.4495e+09 8714278.05   100%     -    0s\n",
      "     0     0 9149703.16    0   26 2.4495e+09 9149703.16   100%     -    0s\n",
      "     0     0 9149703.16    0   26 2.4495e+09 9149703.16   100%     -    0s\n",
      "     0     0 9163159.40    0   26 2.4495e+09 9163159.40   100%     -    0s\n",
      "     0     0 9163159.40    0   26 2.4495e+09 9163159.40   100%     -    0s\n",
      "     0     0 9202790.82    0   25 2.4495e+09 9202790.82   100%     -    0s\n",
      "     0     0 9203199.14    0   19 2.4495e+09 9203199.14   100%     -    0s\n",
      "H    0     0                    2.448954e+09 9204573.21   100%     -    0s\n",
      "     0     0 9234183.89    0   13 2.4490e+09 9234183.89   100%     -    0s\n",
      "H    0     0                    2.448929e+09 9234183.89   100%     -    0s\n",
      "     0     0 1.0013e+07    0   13 2.4489e+09 1.0013e+07   100%     -    0s\n",
      "     0     2 1.0013e+07    0   13 2.4489e+09 1.0013e+07   100%     -    0s\n",
      "H  187   113                    2.446285e+09 1.0013e+07   100%  10.8    0s\n",
      "*  291   126              23    2.446183e+09 1.0013e+07   100%  13.6    0s\n",
      "*  315   126              23    2.445938e+09 1.0013e+07   100%  13.9    0s\n",
      "H  322   156                    2.444072e+09 1.0013e+07   100%  13.6    0s\n",
      "*  579   200              35    2.443949e+09 1.0013e+07   100%  14.1    0s\n",
      "\n",
      "Cutting planes:\n",
      "  Gomory: 2\n",
      "  Lift-and-project: 9\n",
      "  Implied bound: 1\n",
      "  Flow cover: 1\n",
      "\n",
      "Explored 3098 nodes (31387 simplex iterations) in 0.27 seconds (0.39 work units)\n",
      "Thread count was 10 (of 10 available processors)\n",
      "\n",
      "Solution count 7: 2.44395e+09 2.44407e+09 2.44594e+09 ... 2.44953e+09\n",
      "\n",
      "Optimal solution found (tolerance 1.00e-04)\n",
      "Best objective 2.443949073990e+09, best bound 2.443949073990e+09, gap 0.0000%\n"
     ]
    }
   ],
   "source": [
    "eg1.optimize()"
   ]
  },
  {
   "cell_type": "code",
   "execution_count": 4,
   "metadata": {},
   "outputs": [
    {
     "name": "stdout",
     "output_type": "stream",
     "text": [
      "\n",
      "z* = 2443949073.989866\n"
     ]
    }
   ],
   "source": [
    "print (\"\\nz* =\", eg1.objVal)"
   ]
  },
  {
   "cell_type": "code",
   "execution_count": 5,
   "metadata": {},
   "outputs": [
    {
     "name": "stdout",
     "output_type": "stream",
     "text": [
      "z16 = 0.026954177897573817\n",
      "z18 = 0.9730458221024262\n",
      "z24 = 0.5454545454545596\n",
      "z26 = 0.4545454545454403\n",
      "z34 = 1.0\n",
      "z44 = 1.0\n",
      "z55 = 1.0\n",
      "z66 = 1.0\n",
      "z74 = 1.0\n",
      "z88 = 1.0\n",
      "z96 = 0.39093484419264346\n",
      "z917 = 0.6090651558073565\n",
      "z1010 = 1.0\n",
      "z118 = 0.5803571428571428\n",
      "z1112 = 0.41964285714285715\n",
      "z1212 = 1.0\n",
      "z1314 = 0.21468926553668402\n",
      "z1317 = 0.06779661016953042\n",
      "z1321 = 0.7175141242937856\n",
      "z1414 = 1.0\n",
      "z1515 = 1.0\n",
      "z1615 = 1.0\n",
      "z1717 = 1.0\n",
      "z1818 = 1.0\n",
      "z1915 = 0.19999999999999948\n",
      "z1919 = 0.8000000000000006\n",
      "z2017 = 1.0\n",
      "z2121 = 1.0\n",
      "z2210 = 0.05757575757575766\n",
      "z2212 = 0.6181818181818182\n",
      "z2218 = 0.3242424242424242\n",
      "z2317 = 1.0\n",
      "z2414 = 0.09000000000003472\n",
      "z2415 = 0.3899999999999653\n",
      "z2424 = 0.52\n",
      "z2515 = 0.5934579439252337\n",
      "z2525 = 0.40654205607476634\n",
      "z2615 = 1.0\n",
      "z275 = 0.9672131147540984\n",
      "z2730 = 0.03278688524590158\n",
      "z285 = 0.23105134474327627\n",
      "z2828 = 0.7689486552567237\n",
      "z294 = 0.2991765782250632\n",
      "z295 = 0.7008234217749314\n",
      "z3030 = 1.0\n"
     ]
    }
   ],
   "source": [
    "for i in L:\n",
    "    for j in L:\n",
    "        if z[i][j].x != 0:\n",
    "            print(z[i][j].varName, '=', z[i][j].x)"
   ]
  },
  {
   "cell_type": "code",
   "execution_count": 6,
   "metadata": {},
   "outputs": [
    {
     "name": "stdout",
     "output_type": "stream",
     "text": [
      "y41 = 1608.0\n",
      "y42 = 1654.0\n",
      "y51 = 1301.0\n",
      "y52 = 1711.0\n",
      "y61 = 1358.0\n",
      "y81 = 988.0\n",
      "y101 = 981.0\n",
      "y121 = 1165.0\n",
      "y141 = 219.0\n",
      "y151 = 691.9999999999924\n",
      "y172 = 1800.0\n",
      "y181 = 1221.0\n",
      "y191 = 88.0\n",
      "y211 = 866.0\n",
      "y241 = 104.0\n",
      "y251 = 87.0\n",
      "y281 = 1258.0\n",
      "y301 = 309.0\n"
     ]
    }
   ],
   "source": [
    "for i in L:\n",
    "    for j in Q:\n",
    "        if y[i][j].x > 1:\n",
    "            print(y[i][j].varName, '=', y[i][j].x)"
   ]
  },
  {
   "cell_type": "code",
   "execution_count": 7,
   "metadata": {},
   "outputs": [
    {
     "name": "stdout",
     "output_type": "stream",
     "text": [
      "15 1\n",
      "17 2\n",
      "2443949073.9898653\n"
     ]
    }
   ],
   "source": [
    "su = 0\n",
    "for i in L :\n",
    "    for j in L:\n",
    "       su +=  d[i][j]*z[i][j].x*P[i] \n",
    "    for j in Q:\n",
    "       su +=  C[i][j].x*B[i][j].x\n",
    "       if B[i][j].x != 0:\n",
    "         print(i+1,j+1)\n",
    "       \n",
    "print(su)"
   ]
  },
  {
   "cell_type": "code",
   "execution_count": 8,
   "metadata": {},
   "outputs": [
    {
     "name": "stdout",
     "output_type": "stream",
     "text": [
      "y11 = 6.313384331597225e-13\n",
      "y12 = 6.313384331597225e-13\n",
      "y31 = 6.313384331597225e-13\n",
      "y41 = 1608.0\n",
      "y42 = 1654.0\n",
      "y51 = 1301.0\n",
      "y52 = 1711.0\n",
      "y61 = 1358.0\n",
      "y72 = 6.313384331597225e-13\n",
      "y81 = 988.0\n",
      "y101 = 981.0\n",
      "y111 = 6.313384331597225e-13\n",
      "y112 = 6.313384331597225e-13\n",
      "y121 = 1165.0\n",
      "y132 = 6.313384331597225e-13\n",
      "y141 = 219.0\n",
      "y151 = 691.9999999999924\n",
      "y152 = 6.313384331597225e-13\n",
      "y171 = 6.313384331597225e-13\n",
      "y172 = 1800.0\n",
      "y181 = 1221.0\n",
      "y191 = 88.0\n",
      "y202 = 6.313384331597225e-13\n",
      "y211 = 866.0\n",
      "y232 = 6.313384331597225e-13\n",
      "y241 = 104.0\n",
      "y251 = 87.0\n",
      "y281 = 1258.0\n",
      "y301 = 309.0\n",
      "17409.999999999996\n"
     ]
    }
   ],
   "source": [
    "sum = 0\n",
    "for i in L:\n",
    "    for j in Q:\n",
    "        if y[i][j].x != 0:\n",
    "            print(y[i][j].varName, '=', y[i][j].x)\n",
    "            sum += y[i][j].x\n",
    "print(sum)"
   ]
  },
  {
   "cell_type": "code",
   "execution_count": 9,
   "metadata": {},
   "outputs": [
    {
     "name": "stdout",
     "output_type": "stream",
     "text": [
      "9809073.989871439\n"
     ]
    }
   ],
   "source": [
    "fuel_cost = 0\n",
    "for i in L:\n",
    "    for j in L:\n",
    "        fuel_cost += d[i][j]*z[i][j].x*P[i]\n",
    "print(fuel_cost)"
   ]
  },
  {
   "cell_type": "code",
   "execution_count": 10,
   "metadata": {},
   "outputs": [
    {
     "name": "stdout",
     "output_type": "stream",
     "text": [
      "0.0 1.262676866319445e-12\n",
      "0.0 0.0\n",
      "0.0 6.313384331597225e-13\n",
      "3262.0000000000005 3262.0\n",
      "3012.0 3012.0\n",
      "1358.0000000000002 1358.0\n",
      "0.0 6.313384331597225e-13\n",
      "988.0000000000001 988.0\n",
      "0.0 0.0\n",
      "981.0 981.0\n",
      "0.0 1.262676866319445e-12\n",
      "1165.0 1165.0\n",
      "0.0 6.313384331597225e-13\n",
      "219.0 219.0\n",
      "691.999999999993 691.9999999999931\n",
      "0.0 0.0\n",
      "1800.0000000000005 1800.0000000000007\n",
      "1221.0 1221.0\n",
      "88.00000000000007 88.0\n",
      "0.0 6.313384331597225e-13\n",
      "866.0 866.0\n",
      "0.0 0.0\n",
      "0.0 6.313384331597225e-13\n",
      "104.0 104.0\n",
      "87.0 87.0\n",
      "0.0 0.0\n",
      "0.0 0.0\n",
      "1258.0 1258.0\n",
      "0.0 0.0\n",
      "309.0 309.0\n",
      "17409.999999999993 17410.0\n"
     ]
    }
   ],
   "source": [
    "zsum = 0\n",
    "ysum = 0\n",
    "for i in L:\n",
    "    Z_cost = 0\n",
    "    Y_cost = 0\n",
    "    for j in L:\n",
    "        Z_cost += z[j][i].x *P[j]\n",
    "    for k in Q:\n",
    "        Y_cost += y[i][k].x \n",
    "    zsum += Z_cost\n",
    "    ysum += Y_cost\n",
    "    print(Z_cost,Y_cost)\n",
    "print(zsum,ysum)\n",
    "    "
   ]
  },
  {
   "cell_type": "code",
   "execution_count": 11,
   "metadata": {},
   "outputs": [
    {
     "name": "stdout",
     "output_type": "stream",
     "text": [
      "2.0\n"
     ]
    }
   ],
   "source": [
    "building_cost = 0\n",
    "for i in L:\n",
    "    for j in Q:\n",
    "        building_cost += B[i][j].x \n",
    "print(building_cost)"
   ]
  },
  {
   "cell_type": "code",
   "execution_count": 12,
   "metadata": {},
   "outputs": [
    {
     "name": "stdout",
     "output_type": "stream",
     "text": [
      "9809075.989871439\n"
     ]
    }
   ],
   "source": [
    "total_cost = fuel_cost + building_cost\n",
    "print(total_cost)"
   ]
  }
 ],
 "metadata": {
  "kernelspec": {
   "display_name": "Python 3",
   "language": "python",
   "name": "python3"
  },
  "language_info": {
   "codemirror_mode": {
    "name": "ipython",
    "version": 3
   },
   "file_extension": ".py",
   "mimetype": "text/x-python",
   "name": "python",
   "nbconvert_exporter": "python",
   "pygments_lexer": "ipython3",
   "version": "3.11.5"
  }
 },
 "nbformat": 4,
 "nbformat_minor": 2
}
