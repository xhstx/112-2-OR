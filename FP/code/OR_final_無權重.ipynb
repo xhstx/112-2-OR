{
 "cells": [
  {
   "cell_type": "code",
   "execution_count": 1,
   "metadata": {},
   "outputs": [],
   "source": [
    "import pandas as pd\n",
    "\n",
    "# Read excel sheets and turn them into lists\n",
    "instance_dis = pd.read_excel('OR_FP_data.xlsx', '距離')\n",
    "instance_info = pd.read_excel('OR_FP_data.xlsx', '學校資訊')\n",
    "instance_school_num = pd.read_excel('OR_FP_data.xlsx', '各里學校數量')\n",
    "instance_student_num = pd.read_excel('OR_FP_data.xlsx', '各里學生人數')\n",
    "\n",
    "# distance between 2 villages\n",
    "distances = instance_dis.iloc[1:31, 2:32]\n",
    "d = distances.values\n",
    "\n",
    "# building costs\n",
    "C_B = instance_info.iloc[0,1]\n",
    "C_S = instance_info.iloc[1,1]\n",
    "\n",
    "# capacity of school\n",
    "N_B = instance_info.iloc[0,3]\n",
    "N_S = instance_info.iloc[1,3]\n",
    "\n",
    "# need of teachers\n",
    "T_B = instance_info.iloc[0,5]\n",
    "T_S = instance_info.iloc[1,5]\n",
    "\n",
    "# total number of teacher\n",
    "K = instance_info.iloc[2,5]\n",
    "\n",
    "# original school numbers of each village\n",
    "S_B = instance_school_num.iloc[0:30,1].values\n",
    "S_S = instance_school_num.iloc[0:30,2].values\n",
    "\n",
    "# student number of each village\n",
    "P = instance_student_num.iloc[0:30,2].values\n",
    "\n",
    "# number of villages\n",
    "L = range(30)"
   ]
  },
  {
   "cell_type": "code",
   "execution_count": 2,
   "metadata": {},
   "outputs": [
    {
     "name": "stdout",
     "output_type": "stream",
     "text": [
      "Set parameter Username\n",
      "Academic license - for non-commercial use only - expires 2025-03-15\n"
     ]
    },
    {
     "data": {
      "text/plain": [
       "{0: <gurobi.Constr *Awaiting Model Update*>,\n",
       " 1: <gurobi.Constr *Awaiting Model Update*>,\n",
       " 2: <gurobi.Constr *Awaiting Model Update*>,\n",
       " 3: <gurobi.Constr *Awaiting Model Update*>,\n",
       " 4: <gurobi.Constr *Awaiting Model Update*>,\n",
       " 5: <gurobi.Constr *Awaiting Model Update*>,\n",
       " 6: <gurobi.Constr *Awaiting Model Update*>,\n",
       " 7: <gurobi.Constr *Awaiting Model Update*>,\n",
       " 8: <gurobi.Constr *Awaiting Model Update*>,\n",
       " 9: <gurobi.Constr *Awaiting Model Update*>,\n",
       " 10: <gurobi.Constr *Awaiting Model Update*>,\n",
       " 11: <gurobi.Constr *Awaiting Model Update*>,\n",
       " 12: <gurobi.Constr *Awaiting Model Update*>,\n",
       " 13: <gurobi.Constr *Awaiting Model Update*>,\n",
       " 14: <gurobi.Constr *Awaiting Model Update*>,\n",
       " 15: <gurobi.Constr *Awaiting Model Update*>,\n",
       " 16: <gurobi.Constr *Awaiting Model Update*>,\n",
       " 17: <gurobi.Constr *Awaiting Model Update*>,\n",
       " 18: <gurobi.Constr *Awaiting Model Update*>,\n",
       " 19: <gurobi.Constr *Awaiting Model Update*>,\n",
       " 20: <gurobi.Constr *Awaiting Model Update*>,\n",
       " 21: <gurobi.Constr *Awaiting Model Update*>,\n",
       " 22: <gurobi.Constr *Awaiting Model Update*>,\n",
       " 23: <gurobi.Constr *Awaiting Model Update*>,\n",
       " 24: <gurobi.Constr *Awaiting Model Update*>,\n",
       " 25: <gurobi.Constr *Awaiting Model Update*>,\n",
       " 26: <gurobi.Constr *Awaiting Model Update*>,\n",
       " 27: <gurobi.Constr *Awaiting Model Update*>,\n",
       " 28: <gurobi.Constr *Awaiting Model Update*>,\n",
       " 29: <gurobi.Constr *Awaiting Model Update*>}"
      ]
     },
     "execution_count": 2,
     "metadata": {},
     "output_type": "execute_result"
    }
   ],
   "source": [
    "from gurobipy import *\n",
    "\n",
    "eg1 = Model(\"eg1\")\n",
    "\n",
    "x_B = []\n",
    "for i in L:\n",
    "    x_B.append(eg1.addVar(lb = 0, vtype = GRB.INTEGER, name = \"x_B\" + str(i+1)))\n",
    "x_S = []\n",
    "for i in L:\n",
    "    x_S.append(eg1.addVar(lb = 0, vtype = GRB.INTEGER, name = \"x_S\" + str(i+1)))\n",
    "\n",
    "z = []\n",
    "for i in L:\n",
    "    z.append([])\n",
    "    for j in L:\n",
    "        z[i].append(eg1.addVar(lb = 0, vtype = GRB.CONTINUOUS, name=\"z\" + str(i+1) + str(j+1)))\n",
    "\n",
    "eg1.setObjective(quicksum(quicksum(d[i][j]*z[i][j]*P[i] for j in L) + (x_B[i]-S_B[i])*C_B + (x_S[i]-S_S[i])*C_S for i in L), GRB.MINIMIZE)\n",
    "eg1.addConstrs((quicksum(z[i][j] for j in L) == 1 for i in L), \"i區有多少部分去j區\") # correct\n",
    "eg1.addConstrs(((quicksum(z[i][j]*P[i] for i in L) <= (x_B[j]*N_B + x_S[j]*N_S)) for j in L) ,\"需求被滿足\")\n",
    "eg1.addConstr(quicksum((x_B[i]*T_B + x_S[i]*T_S) for i in L) <= K, \"可用師資\")\n",
    "eg1.addConstr(quicksum(P[i] for i in L) <= quicksum((x_B[i]*N_B + x_S[i]*N_S) for i in L), \"滿足需求\")\n",
    "eg1.addConstrs((x_B[i] - S_B[i] >= 0 for i in L), \"不拆掉原學校（大）\")\n",
    "eg1.addConstrs((x_S[i] - S_S[i] >= 0 for i in L), \"不拆掉原學校（小）\")"
   ]
  },
  {
   "cell_type": "code",
   "execution_count": 3,
   "metadata": {},
   "outputs": [
    {
     "name": "stdout",
     "output_type": "stream",
     "text": [
      "Gurobi Optimizer version 11.0.1 build v11.0.1rc0 (mac64[arm] - Darwin 22.3.0 22D68)\n",
      "\n",
      "CPU model: Apple M2 Pro\n",
      "Thread count: 10 physical cores, 10 logical processors, using up to 10 threads\n",
      "\n",
      "Optimize a model with 122 rows, 960 columns and 2040 nonzeros\n",
      "Model fingerprint: 0xc7cdb3e4\n",
      "Variable types: 900 continuous, 60 integer (0 binary)\n",
      "Coefficient statistics:\n",
      "  Matrix range     [1e+00, 2e+03]\n",
      "  Objective range  [1e+05, 8e+08]\n",
      "  Bounds range     [0e+00, 0e+00]\n",
      "  RHS range        [1e+00, 2e+04]\n",
      "Presolve removed 60 rows and 0 columns\n",
      "Presolve time: 0.00s\n",
      "Presolved: 62 rows, 960 columns, 1980 nonzeros\n",
      "Variable types: 900 continuous, 60 integer (0 binary)\n",
      "Found heuristic solution: objective 2.812638e+09\n",
      "\n",
      "Root relaxation: objective 2.021519e+09, 39 iterations, 0.00 seconds (0.00 work units)\n",
      "\n",
      "    Nodes    |    Current Node    |     Objective Bounds      |     Work\n",
      " Expl Unexpl |  Obj  Depth IntInf | Incumbent    BestBd   Gap | It/Node Time\n",
      "\n",
      "     0     0 2.0215e+09    0   14 2.8126e+09 2.0215e+09  28.1%     -    0s\n",
      "H    0     0                    2.808460e+09 2.0215e+09  28.0%     -    0s\n",
      "H    0     0                    2.412641e+09 2.0215e+09  16.2%     -    0s\n",
      "H    0     0                    2.408042e+09 2.4060e+09  0.08%     -    0s\n",
      "     0     0 2.4060e+09    0   12 2.4080e+09 2.4060e+09  0.08%     -    0s\n",
      "     0     0 2.4064e+09    0   12 2.4080e+09 2.4064e+09  0.07%     -    0s\n",
      "     0     0 2.4064e+09    0   12 2.4080e+09 2.4064e+09  0.07%     -    0s\n",
      "     0     0 2.4070e+09    0    9 2.4080e+09 2.4070e+09  0.04%     -    0s\n",
      "H    0     0                    2.407851e+09 2.4070e+09  0.04%     -    0s\n",
      "     0     0 2.4072e+09    0    9 2.4079e+09 2.4072e+09  0.03%     -    0s\n",
      "H    0     0                    2.407823e+09 2.4072e+09  0.03%     -    0s\n",
      "     0     0 2.4072e+09    0   10 2.4078e+09 2.4072e+09  0.03%     -    0s\n",
      "H    0     0                    2.407648e+09 2.4072e+09  0.02%     -    0s\n",
      "     0     0 2.4073e+09    0    8 2.4076e+09 2.4073e+09  0.02%     -    0s\n",
      "     0     0 2.4073e+09    0    7 2.4076e+09 2.4073e+09  0.02%     -    0s\n",
      "     0     0 2.4073e+09    0    5 2.4076e+09 2.4073e+09  0.01%     -    0s\n",
      "     0     0 2.4073e+09    0    5 2.4076e+09 2.4073e+09  0.01%     -    0s\n",
      "     0     0          -    0      2.4076e+09 2.4074e+09  0.01%     -    0s\n",
      "\n",
      "Cutting planes:\n",
      "  Gomory: 9\n",
      "  Implied bound: 1\n",
      "  MIR: 25\n",
      "  StrongCG: 1\n",
      "\n",
      "Explored 1 nodes (143 simplex iterations) in 0.04 seconds (0.02 work units)\n",
      "Thread count was 10 (of 10 available processors)\n",
      "\n",
      "Solution count 7: 2.40765e+09 2.40782e+09 2.40785e+09 ... 2.81264e+09\n",
      "\n",
      "Optimal solution found (tolerance 1.00e-04)\n",
      "Best objective 2.407647738148e+09, best bound 2.407412874866e+09, gap 0.0098%\n"
     ]
    }
   ],
   "source": [
    "eg1.optimize()"
   ]
  },
  {
   "cell_type": "code",
   "execution_count": 4,
   "metadata": {},
   "outputs": [
    {
     "name": "stdout",
     "output_type": "stream",
     "text": [
      "\n",
      "z* = 2407647738.148237\n"
     ]
    }
   ],
   "source": [
    "print (\"\\nz* =\", eg1.objVal)"
   ]
  },
  {
   "cell_type": "code",
   "execution_count": 5,
   "metadata": {},
   "outputs": [
    {
     "name": "stdout",
     "output_type": "stream",
     "text": [
      "x_B7 = 1.0\n",
      "x_B23 = 1.0\n",
      "x_B29 = 1.0\n"
     ]
    }
   ],
   "source": [
    "for i in L:\n",
    "    if x_B[i].x-S_B[i] > 0:\n",
    "        print(x_B[i].varName, '=', x_B[i].x-S_B[i])"
   ]
  },
  {
   "cell_type": "code",
   "execution_count": 6,
   "metadata": {},
   "outputs": [],
   "source": [
    "for i in L:\n",
    "    if x_S[i].x-S_S[i] > 0:\n",
    "        print(x_S[i].varName, '=', x_S[i].x-S_S[i])"
   ]
  },
  {
   "cell_type": "code",
   "execution_count": 7,
   "metadata": {},
   "outputs": [
    {
     "name": "stdout",
     "output_type": "stream",
     "text": [
      "z14 = 0.8086253369272233\n",
      "z15 = 0.19137466307277673\n",
      "z24 = 1.0\n",
      "z34 = 1.0\n",
      "z44 = 1.0\n",
      "z55 = 1.0\n",
      "z66 = 1.0\n",
      "z77 = 1.0\n",
      "z88 = 1.0\n",
      "z96 = 0.5283286118980169\n",
      "z98 = 0.471671388101983\n",
      "z1010 = 1.0\n",
      "z118 = 1.0\n",
      "z1212 = 1.0\n",
      "z1323 = 1.0\n",
      "z1414 = 1.0\n",
      "z1519 = 0.39444444444444443\n",
      "z1524 = 0.12777777777777777\n",
      "z1525 = 0.4777777777777778\n",
      "z1614 = 0.8253012048192772\n",
      "z1624 = 0.17469879518072284\n",
      "z178 = 0.0628742514970062\n",
      "z1712 = 0.9371257485029938\n",
      "z1818 = 1.0\n",
      "z1919 = 1.0\n",
      "z2023 = 0.8064516129032261\n",
      "z2024 = 0.1935483870967739\n",
      "z2112 = 0.010825439783491375\n",
      "z2121 = 0.4059539918809201\n",
      "z2123 = 0.5832205683355886\n",
      "z224 = 0.004545454545454769\n",
      "z228 = 0.16212121212121192\n",
      "z2210 = 0.46515151515151515\n",
      "z2218 = 0.36818181818181817\n",
      "z2323 = 1.0\n",
      "z2424 = 1.0\n",
      "z2525 = 1.0\n",
      "z2619 = 1.0\n",
      "z277 = 0.7423887587822016\n",
      "z2729 = 0.24590163934426212\n",
      "z2730 = 0.0117096018735363\n",
      "z285 = 0.204156479217604\n",
      "z2828 = 0.7640586797066014\n",
      "z2829 = 0.03178484107579462\n",
      "z2929 = 1.0\n",
      "z3030 = 1.0\n"
     ]
    }
   ],
   "source": [
    "for i in L:\n",
    "    for j in L:\n",
    "        if z[i][j].x != 0:\n",
    "            print(z[i][j].varName, '=', z[i][j].x)"
   ]
  },
  {
   "cell_type": "code",
   "execution_count": 8,
   "metadata": {},
   "outputs": [
    {
     "name": "stdout",
     "output_type": "stream",
     "text": [
      "7647738.148243208\n"
     ]
    }
   ],
   "source": [
    "fuel_cost = 0\n",
    "for i in L:\n",
    "    for j in L:\n",
    "        fuel_cost += d[i][j]*z[i][j].x*P[i]\n",
    "fuel_cost = fuel_cost\n",
    "print(fuel_cost)"
   ]
  },
  {
   "cell_type": "code",
   "execution_count": 9,
   "metadata": {},
   "outputs": [
    {
     "name": "stdout",
     "output_type": "stream",
     "text": [
      "2400000000.0\n"
     ]
    }
   ],
   "source": [
    "building_cost = 0\n",
    "for i in L:\n",
    "    building_cost += ((x_B[i].x-S_B[i])*C_B +(x_S[i].x-S_S[i])*C_S)\n",
    "print(building_cost)"
   ]
  },
  {
   "cell_type": "code",
   "execution_count": 10,
   "metadata": {},
   "outputs": [
    {
     "name": "stdout",
     "output_type": "stream",
     "text": [
      "2407647738.1482434\n"
     ]
    }
   ],
   "source": [
    "total_cost = fuel_cost + building_cost\n",
    "print(total_cost)"
   ]
  },
  {
   "cell_type": "code",
   "execution_count": 11,
   "metadata": {},
   "outputs": [
    {
     "name": "stdout",
     "output_type": "stream",
     "text": [
      "v4= 639.9999999999999\n"
     ]
    }
   ],
   "source": [
    "# 缺額\n",
    "v = []\n",
    "for j in L:\n",
    "    v.append(x_B[j].x*N_B + x_S[j].x*N_S)\n",
    "    for i in L:\n",
    "        v[j] -= z[i][j].x*P[i]\n",
    "    if v[j] >= 1:\n",
    "        print('v' + str(j) + '=', v[j])"
   ]
  }
 ],
 "metadata": {
  "kernelspec": {
   "display_name": "Python 3",
   "language": "python",
   "name": "python3"
  },
  "language_info": {
   "codemirror_mode": {
    "name": "ipython",
    "version": 3
   },
   "file_extension": ".py",
   "mimetype": "text/x-python",
   "name": "python",
   "nbconvert_exporter": "python",
   "pygments_lexer": "ipython3",
   "version": "3.11.5"
  }
 },
 "nbformat": 4,
 "nbformat_minor": 2
}
