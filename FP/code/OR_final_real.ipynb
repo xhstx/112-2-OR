{
 "cells": [
  {
   "cell_type": "code",
   "execution_count": 17,
   "metadata": {},
   "outputs": [
    {
     "name": "stdout",
     "output_type": "stream",
     "text": [
      "[   0    0    0 3262 3012 1358    0 2332    0  981    0 1165    0  219\n",
      "    0    0    0 1221   88    0  866    0    0  104   87    0    0 1258\n",
      " 1680  309]\n"
     ]
    }
   ],
   "source": [
    "import pandas as pd\n",
    "\n",
    "# Read excel sheets and turn them into lists\n",
    "instance_dis = pd.read_excel('OR_FP_realdata.xlsx', '距離')\n",
    "instance_real_school = pd.read_excel('OR_FP_realdata.xlsx', '各里學校資訊')\n",
    "instance_new_cost = pd.read_excel('OR_FP_realdata.xlsx', '新學校成本')\n",
    "instance_student_number = pd.read_excel('OR_FP_realdata.xlsx', '各里學生人數')\n",
    "\n",
    "# distance between 2 villages\n",
    "distances = instance_dis.iloc[1:31, 2:32]\n",
    "d = distances.values\n",
    "\n",
    "# building costs\n",
    "C = instance_new_cost.iloc[0:2,1].values\n",
    "\n",
    "# capacity of school\n",
    "N = instance_real_school.iloc[0:32,1].values\n",
    "\n",
    "# need of teachers\n",
    "T = instance_real_school.iloc[0:32,3].values\n",
    "\n",
    "# original school numbers of each village\n",
    "# S_B = instance_school_num.iloc[0:30,1].values\n",
    "# S_S = instance_school_num.iloc[0:30,2].values\n",
    "\n",
    "# student number of each village\n",
    "P = instance_student_number.iloc[0:30,2].values\n",
    "\n",
    "# number of villages\n",
    "L = range(30)\n",
    "W_t = 1\n",
    "print(N)"
   ]
  },
  {
   "cell_type": "code",
   "execution_count": 18,
   "metadata": {},
   "outputs": [
    {
     "data": {
      "text/plain": [
       "{0: <gurobi.Constr *Awaiting Model Update*>,\n",
       " 1: <gurobi.Constr *Awaiting Model Update*>,\n",
       " 2: <gurobi.Constr *Awaiting Model Update*>,\n",
       " 3: <gurobi.Constr *Awaiting Model Update*>,\n",
       " 4: <gurobi.Constr *Awaiting Model Update*>,\n",
       " 5: <gurobi.Constr *Awaiting Model Update*>,\n",
       " 6: <gurobi.Constr *Awaiting Model Update*>,\n",
       " 7: <gurobi.Constr *Awaiting Model Update*>,\n",
       " 8: <gurobi.Constr *Awaiting Model Update*>,\n",
       " 9: <gurobi.Constr *Awaiting Model Update*>,\n",
       " 10: <gurobi.Constr *Awaiting Model Update*>,\n",
       " 11: <gurobi.Constr *Awaiting Model Update*>,\n",
       " 12: <gurobi.Constr *Awaiting Model Update*>,\n",
       " 13: <gurobi.Constr *Awaiting Model Update*>,\n",
       " 14: <gurobi.Constr *Awaiting Model Update*>,\n",
       " 15: <gurobi.Constr *Awaiting Model Update*>,\n",
       " 16: <gurobi.Constr *Awaiting Model Update*>,\n",
       " 17: <gurobi.Constr *Awaiting Model Update*>,\n",
       " 18: <gurobi.Constr *Awaiting Model Update*>,\n",
       " 19: <gurobi.Constr *Awaiting Model Update*>,\n",
       " 20: <gurobi.Constr *Awaiting Model Update*>,\n",
       " 21: <gurobi.Constr *Awaiting Model Update*>,\n",
       " 22: <gurobi.Constr *Awaiting Model Update*>,\n",
       " 23: <gurobi.Constr *Awaiting Model Update*>,\n",
       " 24: <gurobi.Constr *Awaiting Model Update*>,\n",
       " 25: <gurobi.Constr *Awaiting Model Update*>,\n",
       " 26: <gurobi.Constr *Awaiting Model Update*>,\n",
       " 27: <gurobi.Constr *Awaiting Model Update*>,\n",
       " 28: <gurobi.Constr *Awaiting Model Update*>,\n",
       " 29: <gurobi.Constr *Awaiting Model Update*>}"
      ]
     },
     "execution_count": 18,
     "metadata": {},
     "output_type": "execute_result"
    }
   ],
   "source": [
    "from gurobipy import *\n",
    "\n",
    "eg1 = Model(\"eg1\")\n",
    "\n",
    "z = []\n",
    "for i in L:\n",
    "    z.append([])\n",
    "    for j in L:\n",
    "        z[i].append(eg1.addVar(lb = 0, vtype = GRB.CONTINUOUS, name=\"z\" + str(i+1) + str(j+1)))\n",
    "\n",
    "eg1.setObjective(quicksum(quicksum(W_t*d[i][j]*z[i][j]*P[i] for j in L) for i in L) + C[0]*10**8 + C[1]*10**8, GRB.MINIMIZE)\n",
    "eg1.addConstrs((quicksum(z[i][j] for j in L) == 1 for i in L), \"i區有多少部分去j區\") # correct\n",
    "eg1.addConstrs(((quicksum(z[i][j]*P[i] for i in L) <= N[j]) for j in L) ,\"需求被滿足\")\n",
    "# eg1.addConstr(quicksum(P[i] for i in L) <= quicksum((x_B[i]*N_B + x_S[i]*N_S) for i in L), \"滿足需求\")"
   ]
  },
  {
   "cell_type": "code",
   "execution_count": 19,
   "metadata": {},
   "outputs": [
    {
     "name": "stdout",
     "output_type": "stream",
     "text": [
      "Gurobi Optimizer version 11.0.1 build v11.0.1rc0 (mac64[arm] - Darwin 22.3.0 22D68)\n",
      "\n",
      "CPU model: Apple M2 Pro\n",
      "Thread count: 10 physical cores, 10 logical processors, using up to 10 threads\n",
      "\n",
      "Optimize a model with 60 rows, 900 columns and 1800 nonzeros\n",
      "Model fingerprint: 0xbc558fde\n",
      "Coefficient statistics:\n",
      "  Matrix range     [1e+00, 2e+03]\n",
      "  Objective range  [1e+05, 2e+07]\n",
      "  Bounds range     [0e+00, 0e+00]\n",
      "  RHS range        [1e+00, 3e+03]\n",
      "Presolve removed 15 rows and 450 columns\n",
      "Presolve time: 0.00s\n",
      "Presolved: 45 rows, 450 columns, 900 nonzeros\n",
      "\n",
      "Iteration    Objective       Primal Inf.    Dual Inf.      Time\n",
      "       0    2.5764634e+09   2.052658e+02   0.000000e+00      0s\n",
      "      51    2.5841855e+09   0.000000e+00   0.000000e+00      0s\n",
      "\n",
      "Solved in 51 iterations and 0.00 seconds (0.00 work units)\n",
      "Optimal objective  2.584185472e+09\n"
     ]
    }
   ],
   "source": [
    "eg1.optimize()"
   ]
  },
  {
   "cell_type": "code",
   "execution_count": 20,
   "metadata": {},
   "outputs": [
    {
     "name": "stdout",
     "output_type": "stream",
     "text": [
      "\n",
      "z* = 2584185472.1388493\n"
     ]
    }
   ],
   "source": [
    "print (\"\\nz* =\", eg1.objVal)"
   ]
  },
  {
   "cell_type": "code",
   "execution_count": 21,
   "metadata": {},
   "outputs": [
    {
     "name": "stdout",
     "output_type": "stream",
     "text": [
      "z14 = 1.0\n",
      "z24 = 1.0\n",
      "z34 = 1.0\n",
      "z44 = 1.0\n",
      "z55 = 1.0\n",
      "z66 = 1.0\n",
      "z74 = 0.3065380493033226\n",
      "z75 = 0.5069667738478028\n",
      "z729 = 0.1864951768488746\n",
      "z88 = 1.0\n",
      "z95 = 0.21529745042492904\n",
      "z96 = 0.6813031161473088\n",
      "z98 = 0.10339943342776212\n",
      "z1010 = 1.0\n",
      "z118 = 1.0\n",
      "z1212 = 1.0\n",
      "z1312 = 0.903954802259887\n",
      "z1321 = 0.09604519774011297\n",
      "z1414 = 1.0\n",
      "z158 = 1.0\n",
      "z1614 = 0.3373493975903614\n",
      "z1621 = 0.6626506024096386\n",
      "z178 = 1.0\n",
      "z1818 = 1.0\n",
      "z195 = 0.20000000000000004\n",
      "z1919 = 0.8\n",
      "z208 = 1.0\n",
      "z2121 = 1.0\n",
      "z224 = 0.6181818181818182\n",
      "z2210 = 0.05757575757575758\n",
      "z2218 = 0.3242424242424242\n",
      "z238 = 0.11990950226244336\n",
      "z2312 = 0.8800904977375565\n",
      "z248 = 0.48\n",
      "z2424 = 0.52\n",
      "z258 = 0.5934579439252337\n",
      "z2525 = 0.40654205607476634\n",
      "z268 = 1.0\n",
      "z2729 = 0.9672131147540983\n",
      "z2730 = 0.03278688524590164\n",
      "z285 = 0.2310513447432763\n",
      "z2828 = 0.7689486552567237\n",
      "z2929 = 1.0\n",
      "z3030 = 1.0\n"
     ]
    }
   ],
   "source": [
    "for i in L:\n",
    "    for j in L:\n",
    "        if z[i][j].x != 0:\n",
    "            print(z[i][j].varName, '=', z[i][j].x)"
   ]
  },
  {
   "cell_type": "code",
   "execution_count": 22,
   "metadata": {},
   "outputs": [
    {
     "name": "stdout",
     "output_type": "stream",
     "text": [
      "14185472.138849095\n"
     ]
    }
   ],
   "source": [
    "fuel_cost = 0\n",
    "for i in L:\n",
    "    for j in L:\n",
    "        fuel_cost += d[i][j]*z[i][j].x*P[i]\n",
    "fuel_cost = fuel_cost\n",
    "print(fuel_cost)"
   ]
  },
  {
   "cell_type": "code",
   "execution_count": 23,
   "metadata": {},
   "outputs": [
    {
     "name": "stdout",
     "output_type": "stream",
     "text": [
      "2570000000.0\n"
     ]
    }
   ],
   "source": [
    "building_cost = 0\n",
    "for i in range(2):\n",
    "    building_cost += C[i]*10**8\n",
    "print(building_cost)"
   ]
  },
  {
   "cell_type": "code",
   "execution_count": 24,
   "metadata": {},
   "outputs": [
    {
     "name": "stdout",
     "output_type": "stream",
     "text": [
      "2584185472.1388493\n"
     ]
    }
   ],
   "source": [
    "total_cost = fuel_cost + building_cost\n",
    "print(total_cost)"
   ]
  }
 ],
 "metadata": {
  "kernelspec": {
   "display_name": "Python 3",
   "language": "python",
   "name": "python3"
  },
  "language_info": {
   "codemirror_mode": {
    "name": "ipython",
    "version": 3
   },
   "file_extension": ".py",
   "mimetype": "text/x-python",
   "name": "python",
   "nbconvert_exporter": "python",
   "pygments_lexer": "ipython3",
   "version": "3.11.5"
  }
 },
 "nbformat": 4,
 "nbformat_minor": 2
}
