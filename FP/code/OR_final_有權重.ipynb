{
 "cells": [
  {
   "cell_type": "code",
   "execution_count": 1,
   "metadata": {},
   "outputs": [],
   "source": [
    "import pandas as pd\n",
    "\n",
    "# Read excel sheets and turn them into lists\n",
    "instance_dis = pd.read_excel('OR_FP_data.xlsx', '距離')\n",
    "instance_info = pd.read_excel('OR_FP_data.xlsx', '學校資訊')\n",
    "instance_school_num = pd.read_excel('OR_FP_data.xlsx', '各里學校數量')\n",
    "instance_student_num = pd.read_excel('OR_FP_data.xlsx', '各里學生人數')\n",
    "\n",
    "# distance between 2 villages\n",
    "distances = instance_dis.iloc[1:31, 2:32]\n",
    "d = distances.values\n",
    "\n",
    "# building costs\n",
    "C_B = instance_info.iloc[0,1]\n",
    "C_S = instance_info.iloc[1,1]\n",
    "\n",
    "# capacity of school\n",
    "N_B = instance_info.iloc[0,3]\n",
    "N_S = instance_info.iloc[1,3]\n",
    "\n",
    "# need of teachers\n",
    "T_B = instance_info.iloc[0,5]\n",
    "T_S = instance_info.iloc[1,5]\n",
    "\n",
    "# total number of teacher\n",
    "K = instance_info.iloc[2,5]\n",
    "\n",
    "# original school numbers of each village\n",
    "S_B = instance_school_num.iloc[0:30,1].values\n",
    "S_S = instance_school_num.iloc[0:30,2].values\n",
    "\n",
    "# student number of each village\n",
    "P = instance_student_num.iloc[0:30,2].values\n",
    "\n",
    "# number of villages\n",
    "L = range(30)\n",
    "\n",
    "# weights of each cost\n",
    "W_b = 1\n",
    "W_t = 500"
   ]
  },
  {
   "cell_type": "code",
   "execution_count": 2,
   "metadata": {},
   "outputs": [
    {
     "name": "stdout",
     "output_type": "stream",
     "text": [
      "Set parameter Username\n",
      "Academic license - for non-commercial use only - expires 2025-03-15\n"
     ]
    },
    {
     "data": {
      "text/plain": [
       "{0: <gurobi.Constr *Awaiting Model Update*>,\n",
       " 1: <gurobi.Constr *Awaiting Model Update*>,\n",
       " 2: <gurobi.Constr *Awaiting Model Update*>,\n",
       " 3: <gurobi.Constr *Awaiting Model Update*>,\n",
       " 4: <gurobi.Constr *Awaiting Model Update*>,\n",
       " 5: <gurobi.Constr *Awaiting Model Update*>,\n",
       " 6: <gurobi.Constr *Awaiting Model Update*>,\n",
       " 7: <gurobi.Constr *Awaiting Model Update*>,\n",
       " 8: <gurobi.Constr *Awaiting Model Update*>,\n",
       " 9: <gurobi.Constr *Awaiting Model Update*>,\n",
       " 10: <gurobi.Constr *Awaiting Model Update*>,\n",
       " 11: <gurobi.Constr *Awaiting Model Update*>,\n",
       " 12: <gurobi.Constr *Awaiting Model Update*>,\n",
       " 13: <gurobi.Constr *Awaiting Model Update*>,\n",
       " 14: <gurobi.Constr *Awaiting Model Update*>,\n",
       " 15: <gurobi.Constr *Awaiting Model Update*>,\n",
       " 16: <gurobi.Constr *Awaiting Model Update*>,\n",
       " 17: <gurobi.Constr *Awaiting Model Update*>,\n",
       " 18: <gurobi.Constr *Awaiting Model Update*>,\n",
       " 19: <gurobi.Constr *Awaiting Model Update*>,\n",
       " 20: <gurobi.Constr *Awaiting Model Update*>,\n",
       " 21: <gurobi.Constr *Awaiting Model Update*>,\n",
       " 22: <gurobi.Constr *Awaiting Model Update*>,\n",
       " 23: <gurobi.Constr *Awaiting Model Update*>,\n",
       " 24: <gurobi.Constr *Awaiting Model Update*>,\n",
       " 25: <gurobi.Constr *Awaiting Model Update*>,\n",
       " 26: <gurobi.Constr *Awaiting Model Update*>,\n",
       " 27: <gurobi.Constr *Awaiting Model Update*>,\n",
       " 28: <gurobi.Constr *Awaiting Model Update*>,\n",
       " 29: <gurobi.Constr *Awaiting Model Update*>}"
      ]
     },
     "execution_count": 2,
     "metadata": {},
     "output_type": "execute_result"
    }
   ],
   "source": [
    "from gurobipy import *\n",
    "\n",
    "eg1 = Model(\"eg1\")\n",
    "\n",
    "x_B = []\n",
    "for i in L:\n",
    "    x_B.append(eg1.addVar(lb = 0, vtype = GRB.INTEGER, name = \"x_B\" + str(i+1)))\n",
    "x_S = []\n",
    "for i in L:\n",
    "    x_S.append(eg1.addVar(lb = 0, vtype = GRB.INTEGER, name = \"x_S\" + str(i+1)))\n",
    "\n",
    "z = []\n",
    "for i in L:\n",
    "    z.append([])\n",
    "    for j in L:\n",
    "        z[i].append(eg1.addVar(lb = 0, vtype = GRB.CONTINUOUS, name=\"z\" + str(i+1) + str(j+1)))\n",
    "\n",
    "eg1.setObjective(quicksum(W_t*quicksum(d[i][j]*z[i][j]*P[i] for j in L) + W_b*((x_B[i]-S_B[i])*C_B + (x_S[i]-S_S[i])*C_S) for i in L), GRB.MINIMIZE)\n",
    "eg1.addConstrs((quicksum(z[i][j] for j in L) == 1 for i in L), \"i區有多少部分去j區\") # correct\n",
    "eg1.addConstrs(((quicksum(z[i][j]*P[i] for i in L) <= (x_B[j]*N_B + x_S[j]*N_S)) for j in L) ,\"需求被滿足\")\n",
    "eg1.addConstr(quicksum((x_B[i]*T_B + x_S[i]*T_S) for i in L) <= K, \"可用師資\")\n",
    "eg1.addConstr(quicksum(P[i] for i in L) <= quicksum((x_B[i]*N_B + x_S[i]*N_S) for i in L), \"滿足需求\")\n",
    "eg1.addConstrs((x_B[i] - S_B[i] >= 0 for i in L), \"不拆掉原學校（大）\")\n",
    "eg1.addConstrs((x_S[i] - S_S[i] >= 0 for i in L), \"不拆掉原學校（小）\")"
   ]
  },
  {
   "cell_type": "code",
   "execution_count": 3,
   "metadata": {},
   "outputs": [
    {
     "name": "stdout",
     "output_type": "stream",
     "text": [
      "Gurobi Optimizer version 11.0.1 build v11.0.1rc0 (mac64[arm] - Darwin 22.3.0 22D68)\n",
      "\n",
      "CPU model: Apple M2 Pro\n",
      "Thread count: 10 physical cores, 10 logical processors, using up to 10 threads\n",
      "\n",
      "Optimize a model with 122 rows, 960 columns and 2040 nonzeros\n",
      "Model fingerprint: 0xae316ac8\n",
      "Variable types: 900 continuous, 60 integer (0 binary)\n",
      "Coefficient statistics:\n",
      "  Matrix range     [1e+00, 2e+03]\n",
      "  Objective range  [7e+07, 9e+09]\n",
      "  Bounds range     [0e+00, 0e+00]\n",
      "  RHS range        [1e+00, 2e+04]\n",
      "Warning: Model contains large objective coefficients\n",
      "         Consider reformulating model or setting NumericFocus parameter\n",
      "         to avoid numerical issues.\n",
      "Presolve removed 60 rows and 0 columns\n",
      "Presolve time: 0.00s\n",
      "Presolved: 62 rows, 960 columns, 1980 nonzeros\n",
      "Variable types: 900 continuous, 60 integer (0 binary)\n",
      "Found heuristic solution: objective 6.948477e+09\n",
      "\n",
      "Root relaxation: objective 3.918462e+09, 26 iterations, 0.00 seconds (0.00 work units)\n",
      "\n",
      "    Nodes    |    Current Node    |     Objective Bounds      |     Work\n",
      " Expl Unexpl |  Obj  Depth IntInf | Incumbent    BestBd   Gap | It/Node Time\n",
      "\n",
      "     0     0 3.9185e+09    0   13 6.9485e+09 3.9185e+09  43.6%     -    0s\n",
      "H    0     0                    6.109594e+09 3.9185e+09  35.9%     -    0s\n",
      "     0     0 5.0726e+09    0    6 6.1096e+09 5.0726e+09  17.0%     -    0s\n",
      "H    0     0                    6.078687e+09 5.0726e+09  16.6%     -    0s\n",
      "H    0     0                    5.590086e+09 5.1884e+09  7.18%     -    0s\n",
      "     0     0 5.1884e+09    0    6 5.5901e+09 5.1884e+09  7.18%     -    0s\n",
      "     0     0 5.2947e+09    0    5 5.5901e+09 5.2947e+09  5.28%     -    0s\n",
      "     0     0 5.3605e+09    0    6 5.5901e+09 5.3605e+09  4.11%     -    0s\n",
      "     0     0 5.3799e+09    0    6 5.5901e+09 5.3799e+09  3.76%     -    0s\n",
      "     0     0 5.3854e+09    0    7 5.5901e+09 5.3854e+09  3.66%     -    0s\n",
      "     0     0 5.4132e+09    0    8 5.5901e+09 5.4132e+09  3.16%     -    0s\n",
      "     0     0 5.4185e+09    0    8 5.5901e+09 5.4185e+09  3.07%     -    0s\n",
      "     0     0 5.4189e+09    0    8 5.5901e+09 5.4189e+09  3.06%     -    0s\n",
      "     0     0 5.4406e+09    0    8 5.5901e+09 5.4406e+09  2.67%     -    0s\n",
      "     0     0 5.4556e+09    0    8 5.5901e+09 5.4556e+09  2.41%     -    0s\n",
      "     0     0 5.5354e+09    0    8 5.5901e+09 5.5354e+09  0.98%     -    0s\n",
      "     0     0 5.5751e+09    0    8 5.5901e+09 5.5751e+09  0.27%     -    0s\n",
      "\n",
      "Cutting planes:\n",
      "  Gomory: 3\n",
      "  Implied bound: 1\n",
      "  MIR: 32\n",
      "\n",
      "Explored 1 nodes (106 simplex iterations) in 0.03 seconds (0.02 work units)\n",
      "Thread count was 10 (of 10 available processors)\n",
      "\n",
      "Solution count 4: 5.59009e+09 6.07869e+09 6.10959e+09 6.94848e+09 \n",
      "\n",
      "Optimal solution found (tolerance 1.00e-04)\n",
      "Best objective 5.590086128895e+09, best bound 5.590086128895e+09, gap 0.0000%\n"
     ]
    }
   ],
   "source": [
    "eg1.optimize()"
   ]
  },
  {
   "cell_type": "code",
   "execution_count": 4,
   "metadata": {},
   "outputs": [
    {
     "name": "stdout",
     "output_type": "stream",
     "text": [
      "\n",
      "z* = 5590086128.895031\n"
     ]
    }
   ],
   "source": [
    "print (\"\\nz* =\", eg1.objVal)"
   ]
  },
  {
   "cell_type": "code",
   "execution_count": 5,
   "metadata": {},
   "outputs": [
    {
     "name": "stdout",
     "output_type": "stream",
     "text": [
      "x_B17 = 1.0\n",
      "x_B29 = 1.0\n"
     ]
    }
   ],
   "source": [
    "for i in L:\n",
    "    if x_B[i].x-S_B[i] > 0:\n",
    "        print(x_B[i].varName, '=', x_B[i].x-S_B[i])"
   ]
  },
  {
   "cell_type": "code",
   "execution_count": 6,
   "metadata": {},
   "outputs": [
    {
     "name": "stdout",
     "output_type": "stream",
     "text": [
      "x_S15 = 1.0\n"
     ]
    }
   ],
   "source": [
    "for i in L:\n",
    "    if x_S[i].x-S_S[i] > 0:\n",
    "        print(x_S[i].varName, '=', x_S[i].x-S_S[i])"
   ]
  },
  {
   "cell_type": "code",
   "execution_count": 7,
   "metadata": {},
   "outputs": [
    {
     "name": "stdout",
     "output_type": "stream",
     "text": [
      "z18 = 0.8524777340513674\n",
      "z110 = 0.14752226594863255\n",
      "z24 = 0.6984644010043037\n",
      "z28 = 0.30153559899569626\n",
      "z34 = 1.0\n",
      "z44 = 1.0\n",
      "z55 = 1.0\n",
      "z66 = 1.0\n",
      "z74 = 1.0\n",
      "z88 = 1.0\n",
      "z98 = 0.007138480392157143\n",
      "z912 = 0.3801811002178647\n",
      "z917 = 0.6126804193899781\n",
      "z1010 = 1.0\n",
      "z1110 = 1.0\n",
      "z1212 = 1.0\n",
      "z1312 = 1.0\n",
      "z1414 = 1.0\n",
      "z1515 = 1.0\n",
      "z1614 = 0.8235033990011098\n",
      "z1615 = 0.17649660099889017\n",
      "z1717 = 1.0\n",
      "z1818 = 1.0\n",
      "z1919 = 1.0\n",
      "z2019 = 0.767666837304542\n",
      "z2024 = 0.232333162695458\n",
      "z2112 = 0.5941484576503869\n",
      "z2121 = 0.4058515423496131\n",
      "z2210 = 0.25247986972126424\n",
      "z2218 = 0.7475201302787358\n",
      "z2317 = 0.9033709671811988\n",
      "z2324 = 0.09662903281880118\n",
      "z2424 = 1.0\n",
      "z2525 = 1.0\n",
      "z2615 = 0.7620533410732713\n",
      "z2625 = 0.23794665892672873\n",
      "z275 = 0.03278862096309176\n",
      "z2729 = 0.9551107897202993\n",
      "z2730 = 0.012100589316608993\n",
      "z285 = 0.08326824140199232\n",
      "z2828 = 0.9167317585980076\n",
      "z2929 = 1.0\n",
      "z3030 = 1.0\n"
     ]
    }
   ],
   "source": [
    "for i in L:\n",
    "    for j in L:\n",
    "        if z[i][j].x != 0:\n",
    "            print(z[i][j].varName, '=', z[i][j].x)"
   ]
  },
  {
   "cell_type": "code",
   "execution_count": 8,
   "metadata": {},
   "outputs": [
    {
     "name": "stdout",
     "output_type": "stream",
     "text": [
      "3590086128.8950343\n"
     ]
    }
   ],
   "source": [
    "fuel_cost = 0\n",
    "for i in L:\n",
    "    for j in L:\n",
    "        fuel_cost += d[i][j]*z[i][j].x*P[i]\n",
    "fuel_cost = W_t*fuel_cost\n",
    "print(fuel_cost)"
   ]
  },
  {
   "cell_type": "code",
   "execution_count": 9,
   "metadata": {},
   "outputs": [
    {
     "name": "stdout",
     "output_type": "stream",
     "text": [
      "2000000000.0\n"
     ]
    }
   ],
   "source": [
    "building_cost = 0\n",
    "for i in L:\n",
    "    building_cost += W_b*((x_B[i].x-S_B[i])*C_B +(x_S[i].x-S_S[i])*C_S)\n",
    "print(building_cost)"
   ]
  },
  {
   "cell_type": "code",
   "execution_count": 10,
   "metadata": {},
   "outputs": [
    {
     "name": "stdout",
     "output_type": "stream",
     "text": [
      "5590086128.895035\n"
     ]
    }
   ],
   "source": [
    "total_cost = fuel_cost + building_cost\n",
    "print(total_cost)"
   ]
  },
  {
   "cell_type": "code",
   "execution_count": 11,
   "metadata": {},
   "outputs": [
    {
     "name": "stdout",
     "output_type": "stream",
     "text": [
      "v4= 1394.3942342342336\n",
      "v5= 622.804084084084\n",
      "v7= 617.4952552552546\n",
      "v24= 57.30642642642639\n"
     ]
    }
   ],
   "source": [
    "# 缺額\n",
    "v = []\n",
    "for j in L:\n",
    "    v.append(x_B[j].x*N_B + x_S[j].x*N_S)\n",
    "    for i in L:\n",
    "        v[j] -= z[i][j].x*P[i]\n",
    "    if v[j] >= 1:\n",
    "        print('v' + str(j) + '=', v[j])\n"
   ]
  }
 ],
 "metadata": {
  "kernelspec": {
   "display_name": "Python 3",
   "language": "python",
   "name": "python3"
  },
  "language_info": {
   "codemirror_mode": {
    "name": "ipython",
    "version": 3
   },
   "file_extension": ".py",
   "mimetype": "text/x-python",
   "name": "python",
   "nbconvert_exporter": "python",
   "pygments_lexer": "ipython3",
   "version": "3.11.5"
  }
 },
 "nbformat": 4,
 "nbformat_minor": 2
}
