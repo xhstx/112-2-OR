{
 "cells": [
  {
   "cell_type": "code",
   "execution_count": 110,
   "metadata": {},
   "outputs": [
    {
     "name": "stdout",
     "output_type": "stream",
     "text": [
      "[   0    0    0 3838 3543 1598    0 2506    0 1154    0 1370    0  219\n",
      "    0    0    0 1437   88    0 1019    0    0  104   87    0    0 1480\n",
      " 1680  309]\n"
     ]
    }
   ],
   "source": [
    "import pandas as pd\n",
    "\n",
    "# Read excel sheets and turn them into lists\n",
    "instance_dis = pd.read_excel('OR_FP_realdata.xlsx', '距離')\n",
    "instance_real_school = pd.read_excel('OR_FP_realdata.xlsx', '各里學校資訊')\n",
    "instance_new_cost = pd.read_excel('OR_FP_realdata.xlsx', '新學校成本')\n",
    "instance_student_number = pd.read_excel('OR_FP_realdata.xlsx', '各里學生人數')\n",
    "\n",
    "# distance between 2 villages\n",
    "distances = instance_dis.iloc[1:31, 2:32]\n",
    "d = distances.values\n",
    "\n",
    "# building costs\n",
    "C = instance_new_cost.iloc[0:2,1].values\n",
    "\n",
    "# capacity of school\n",
    "N = instance_real_school.iloc[0:32,2].values\n",
    "\n",
    "# need of teachers\n",
    "T = instance_real_school.iloc[0:32,3].values\n",
    "\n",
    "# original school numbers of each village\n",
    "# S_B = instance_school_num.iloc[0:30,1].values\n",
    "# S_S = instance_school_num.iloc[0:30,2].values\n",
    "\n",
    "# student number of each village\n",
    "P = instance_student_number.iloc[0:30,2].values\n",
    "\n",
    "# number of villages\n",
    "L = range(30)\n",
    "W_t = 200\n",
    "M = 10**5\n",
    "print(N)"
   ]
  },
  {
   "cell_type": "code",
   "execution_count": 111,
   "metadata": {},
   "outputs": [
    {
     "data": {
      "text/plain": [
       "{0: <gurobi.QConstr Not Yet Added>,\n",
       " 1: <gurobi.QConstr Not Yet Added>,\n",
       " 2: <gurobi.QConstr Not Yet Added>,\n",
       " 3: <gurobi.QConstr Not Yet Added>,\n",
       " 4: <gurobi.QConstr Not Yet Added>,\n",
       " 5: <gurobi.QConstr Not Yet Added>,\n",
       " 6: <gurobi.QConstr Not Yet Added>,\n",
       " 7: <gurobi.QConstr Not Yet Added>,\n",
       " 8: <gurobi.QConstr Not Yet Added>,\n",
       " 9: <gurobi.QConstr Not Yet Added>,\n",
       " 10: <gurobi.QConstr Not Yet Added>,\n",
       " 11: <gurobi.QConstr Not Yet Added>,\n",
       " 12: <gurobi.QConstr Not Yet Added>,\n",
       " 13: <gurobi.QConstr Not Yet Added>,\n",
       " 14: <gurobi.QConstr Not Yet Added>,\n",
       " 15: <gurobi.QConstr Not Yet Added>,\n",
       " 16: <gurobi.QConstr Not Yet Added>,\n",
       " 17: <gurobi.QConstr Not Yet Added>,\n",
       " 18: <gurobi.QConstr Not Yet Added>,\n",
       " 19: <gurobi.QConstr Not Yet Added>,\n",
       " 20: <gurobi.QConstr Not Yet Added>,\n",
       " 21: <gurobi.QConstr Not Yet Added>,\n",
       " 22: <gurobi.QConstr Not Yet Added>,\n",
       " 23: <gurobi.QConstr Not Yet Added>,\n",
       " 24: <gurobi.QConstr Not Yet Added>,\n",
       " 25: <gurobi.QConstr Not Yet Added>,\n",
       " 26: <gurobi.QConstr Not Yet Added>,\n",
       " 27: <gurobi.QConstr Not Yet Added>,\n",
       " 28: <gurobi.QConstr Not Yet Added>,\n",
       " 29: <gurobi.QConstr Not Yet Added>}"
      ]
     },
     "execution_count": 111,
     "metadata": {},
     "output_type": "execute_result"
    }
   ],
   "source": [
    "from gurobipy import *\n",
    "\n",
    "eg1 = Model(\"eg1\")\n",
    "\n",
    "z = []\n",
    "for i in L:\n",
    "    z.append([])\n",
    "    for j in L:\n",
    "        z[i].append(eg1.addVar(lb = 0, vtype = GRB.CONTINUOUS, name=\"z\" + str(i+1) + str(j+1)))\n",
    "\n",
    "x = []\n",
    "for i in L:\n",
    "    x.append(eg1.addVar(lb = 0, vtype = GRB.INTEGER, name=\"x\" + str(i+1)))\n",
    "\n",
    "y = []\n",
    "for i in L:\n",
    "    y.append(eg1.addVar(lb = 0, vtype = GRB.CONTINUOUS, name=\"y\" + str(i+1)))\n",
    "\n",
    "eg1.setObjective(quicksum(quicksum(d[i][j]*z[i][j]*P[i] + y[j]*10**5 for j in L) for i in L) + C[0]*10**8 + C[1]*10**8, GRB.MINIMIZE)\n",
    "eg1.addConstrs((quicksum(z[i][j] for j in L) == 1 for i in L), \"i區有多少部分去j區\") # correct\n",
    "eg1.addConstrs(((quicksum(z[i][j]*P[i] for i in L) <= N[j]*1.1) for j in L) ,\"需求被滿足\")\n",
    "eg1.addConstrs(((quicksum(z[i][j]*P[i] for i in L) - N[j] <= M*x[j]) for j in L) ,\"超額1\")\n",
    "eg1.addConstrs(((quicksum(z[i][j]*P[i] for i in L) - N[j] >= M*(x[j]-1)) for j in L) ,\"超額2\")\n",
    "eg1.addConstrs((y[j] == x[j]*(quicksum(z[i][j]*P[i] for i in L) - N[j]) for j in L) ,\"超額2\")\n",
    "# eg1.addConstr(quicksum(P[i] for i in L) <= quicksum((x_B[i]*N_B + x_S[i]*N_S) for i in L), \"滿足需求\")"
   ]
  },
  {
   "cell_type": "code",
   "execution_count": 112,
   "metadata": {},
   "outputs": [
    {
     "name": "stdout",
     "output_type": "stream",
     "text": [
      "Gurobi Optimizer version 11.0.1 build v11.0.1rc0 (mac64[arm] - Darwin 22.3.0 22D68)\n",
      "\n",
      "CPU model: Apple M2 Pro\n",
      "Thread count: 10 physical cores, 10 logical processors, using up to 10 threads\n",
      "\n",
      "Optimize a model with 120 rows, 960 columns and 3660 nonzeros\n",
      "Model fingerprint: 0xf63f8afd\n",
      "Model has 30 quadratic constraints\n",
      "Variable types: 930 continuous, 30 integer (0 binary)\n",
      "Coefficient statistics:\n",
      "  Matrix range     [1e+00, 1e+05]\n",
      "  QMatrix range    [1e+02, 2e+03]\n",
      "  QLMatrix range   [1e+00, 4e+03]\n",
      "  Objective range  [1e+05, 2e+07]\n",
      "  Bounds range     [0e+00, 0e+00]\n",
      "  RHS range        [1e+00, 1e+05]\n",
      "Presolve removed 60 rows and 480 columns\n",
      "Presolve time: 0.00s\n",
      "Presolved: 1485 rows, 990 columns, 5580 nonzeros\n",
      "Presolved model has 30 SOS constraint(s)\n",
      "Variable types: 960 continuous, 30 integer (30 binary)\n",
      "\n",
      "Root relaxation: objective 2.582031e+09, 176 iterations, 0.00 seconds (0.00 work units)\n",
      "\n",
      "    Nodes    |    Current Node    |     Objective Bounds      |     Work\n",
      " Expl Unexpl |  Obj  Depth IntInf | Incumbent    BestBd   Gap | It/Node Time\n",
      "\n",
      "*    0     0               0    2.582031e+09 2.5820e+09  0.00%     -    0s\n",
      "\n",
      "Explored 1 nodes (176 simplex iterations) in 0.02 seconds (0.03 work units)\n",
      "Thread count was 10 (of 10 available processors)\n",
      "\n",
      "Solution count 1: 2.58203e+09 \n",
      "\n",
      "Optimal solution found (tolerance 1.00e-04)\n",
      "Best objective 2.582030963875e+09, best bound 2.582030963875e+09, gap 0.0000%\n"
     ]
    }
   ],
   "source": [
    "eg1.optimize()"
   ]
  },
  {
   "cell_type": "code",
   "execution_count": 113,
   "metadata": {},
   "outputs": [
    {
     "name": "stdout",
     "output_type": "stream",
     "text": [
      "\n",
      "z* = 2582030963.8751874\n"
     ]
    }
   ],
   "source": [
    "print (\"\\nz* =\", eg1.objVal)"
   ]
  },
  {
   "cell_type": "code",
   "execution_count": 114,
   "metadata": {},
   "outputs": [
    {
     "name": "stdout",
     "output_type": "stream",
     "text": [
      "z18 = 1.0\n",
      "z24 = 1.0\n",
      "z34 = 1.0\n",
      "z44 = 1.0\n",
      "z55 = 1.0\n",
      "z66 = 1.0\n",
      "z74 = 0.9807073954983923\n",
      "z729 = 0.01929260450160772\n",
      "z88 = 1.0\n",
      "z96 = 0.726628895184136\n",
      "z98 = 0.273371104815864\n",
      "z1010 = 1.0\n",
      "z118 = 1.0\n",
      "z1212 = 1.0\n",
      "z1312 = 0.03954802259887006\n",
      "z1321 = 0.96045197740113\n",
      "z1414 = 1.0\n",
      "z1512 = 1.0\n",
      "z1614 = 0.3373493975903614\n",
      "z1621 = 0.6626506024096386\n",
      "z178 = 1.0\n",
      "z1818 = 1.0\n",
      "z198 = 0.2\n",
      "z1919 = 0.8\n",
      "z208 = 1.0\n",
      "z2121 = 1.0\n",
      "z228 = 0.02878787878787881\n",
      "z2210 = 0.3196969696969697\n",
      "z2218 = 0.6515151515151515\n",
      "z2312 = 1.0\n",
      "z2412 = 0.4799999999999003\n",
      "z2424 = 0.5200000000000997\n",
      "z258 = 0.45794392523364486\n",
      "z2512 = 0.13551401869158877\n",
      "z2525 = 0.40654205607476634\n",
      "z268 = 1.0\n",
      "z2729 = 0.9672131147540983\n",
      "z2730 = 0.03278688524590164\n",
      "z2828 = 0.9046454767726161\n",
      "z2829 = 0.09535452322738387\n",
      "z2929 = 1.0\n",
      "z3030 = 1.0\n"
     ]
    }
   ],
   "source": [
    "for i in L:\n",
    "    for j in L:\n",
    "        if z[i][j].x != 0:\n",
    "            print(z[i][j].varName, '=', z[i][j].x)"
   ]
  },
  {
   "cell_type": "code",
   "execution_count": 115,
   "metadata": {},
   "outputs": [
    {
     "name": "stdout",
     "output_type": "stream",
     "text": [
      "12030963.875187626\n"
     ]
    }
   ],
   "source": [
    "fuel_cost = 0\n",
    "for i in L:\n",
    "    for j in L:\n",
    "        fuel_cost += d[i][j]*z[i][j].x*P[i]\n",
    "fuel_cost = fuel_cost\n",
    "print(fuel_cost)"
   ]
  },
  {
   "cell_type": "code",
   "execution_count": 116,
   "metadata": {},
   "outputs": [
    {
     "name": "stdout",
     "output_type": "stream",
     "text": [
      "y1 = 0.0\n",
      "y2 = 0.0\n",
      "y3 = 0.0\n",
      "y4 = 0.0\n",
      "y5 = 0.0\n",
      "y6 = 0.0\n",
      "y7 = 0.0\n",
      "y8 = 0.0\n",
      "y9 = 0.0\n",
      "y10 = 0.0\n",
      "y11 = 0.0\n",
      "y12 = 0.0\n",
      "y13 = 0.0\n",
      "y14 = 0.0\n",
      "y15 = 0.0\n",
      "y16 = 0.0\n",
      "y17 = 0.0\n",
      "y18 = 0.0\n",
      "y19 = 0.0\n",
      "y20 = 0.0\n",
      "y21 = 0.0\n",
      "y22 = 0.0\n",
      "y23 = 0.0\n",
      "y24 = 0.0\n",
      "y25 = 0.0\n",
      "y26 = 0.0\n",
      "y27 = 0.0\n",
      "y28 = 0.0\n",
      "y29 = 0.0\n",
      "y30 = 0.0\n",
      "0\n"
     ]
    }
   ],
   "source": [
    "exceed = 0\n",
    "for i in L:\n",
    "    print(y[i].varName, '=', y[i].x)\n",
    "    fuel_cost += y[i].x\n",
    "print(exceed)"
   ]
  },
  {
   "cell_type": "code",
   "execution_count": 117,
   "metadata": {},
   "outputs": [
    {
     "name": "stdout",
     "output_type": "stream",
     "text": [
      "2570000000.0\n"
     ]
    }
   ],
   "source": [
    "building_cost = 0\n",
    "for i in range(2):\n",
    "    building_cost += C[i]*10**8\n",
    "print(building_cost)"
   ]
  },
  {
   "cell_type": "code",
   "execution_count": 118,
   "metadata": {},
   "outputs": [
    {
     "name": "stdout",
     "output_type": "stream",
     "text": [
      "2582030963.8751874\n"
     ]
    }
   ],
   "source": [
    "total_cost = fuel_cost + building_cost\n",
    "print(total_cost)"
   ]
  }
 ],
 "metadata": {
  "kernelspec": {
   "display_name": "Python 3",
   "language": "python",
   "name": "python3"
  },
  "language_info": {
   "codemirror_mode": {
    "name": "ipython",
    "version": 3
   },
   "file_extension": ".py",
   "mimetype": "text/x-python",
   "name": "python",
   "nbconvert_exporter": "python",
   "pygments_lexer": "ipython3",
   "version": "3.11.5"
  }
 },
 "nbformat": 4,
 "nbformat_minor": 2
}
